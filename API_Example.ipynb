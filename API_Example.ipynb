{
 "cells": [
  {
   "cell_type": "code",
   "execution_count": 26,
   "id": "80c9b325",
   "metadata": {},
   "outputs": [],
   "source": [
    "# Import dependency. \n",
    "#Import API key from config text file\n",
    "import requests\n",
    "from config import weather_api_key"
   ]
  },
  {
   "cell_type": "code",
   "execution_count": 27,
   "id": "14f03454",
   "metadata": {},
   "outputs": [],
   "source": [
    "# API URL and example city\n",
    "url = \"http://api.openweathermap.org/data/2.5/weather?units=Imperial&APPID=\" + weather_api_key\n",
    "city = \"London\""
   ]
  },
  {
   "cell_type": "code",
   "execution_count": 28,
   "id": "90a860f5",
   "metadata": {},
   "outputs": [],
   "source": [
    "city_url = url + \"&q=\" + city"
   ]
  },
  {
   "cell_type": "code",
   "execution_count": 29,
   "id": "4b755159",
   "metadata": {},
   "outputs": [],
   "source": [
    "weather_response = requests.get(city_url)\n",
    "weather_json = weather_response.json()"
   ]
  },
  {
   "cell_type": "code",
   "execution_count": 30,
   "id": "457c0ab0",
   "metadata": {},
   "outputs": [
    {
     "data": {
      "text/plain": [
       "dict_keys(['coord', 'weather', 'base', 'main', 'visibility', 'wind', 'clouds', 'dt', 'sys', 'timezone', 'id', 'name', 'cod'])"
      ]
     },
     "execution_count": 30,
     "metadata": {},
     "output_type": "execute_result"
    }
   ],
   "source": [
    "weather_json.keys()"
   ]
  },
  {
   "cell_type": "code",
   "execution_count": 32,
   "id": "b099cec8",
   "metadata": {},
   "outputs": [
    {
     "data": {
      "text/plain": [
       "{'temp': 46.96,\n",
       " 'feels_like': 43.03,\n",
       " 'temp_min': 44.24,\n",
       " 'temp_max': 48.61,\n",
       " 'pressure': 1019,\n",
       " 'humidity': 90}"
      ]
     },
     "execution_count": 32,
     "metadata": {},
     "output_type": "execute_result"
    }
   ],
   "source": [
    "weather_json.get(\"main\")"
   ]
  }
 ],
 "metadata": {
  "kernelspec": {
   "display_name": "PythonData",
   "language": "python",
   "name": "pythondata"
  },
  "language_info": {
   "codemirror_mode": {
    "name": "ipython",
    "version": 3
   },
   "file_extension": ".py",
   "mimetype": "text/x-python",
   "name": "python",
   "nbconvert_exporter": "python",
   "pygments_lexer": "ipython3",
   "version": "3.9.7"
  }
 },
 "nbformat": 4,
 "nbformat_minor": 5
}
